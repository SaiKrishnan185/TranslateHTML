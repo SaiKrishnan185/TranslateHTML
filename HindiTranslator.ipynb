{
 "cells": [
  {
   "cell_type": "code",
   "execution_count": 6,
   "id": "74eec452-df6d-4546-9729-46217ef10588",
   "metadata": {
    "tags": []
   },
   "outputs": [],
   "source": [
    "# Install required modules\n",
    "\n",
    "# !pip install transformers ipywidgets --upgrade\n",
    "# !pip install torch torchvision torchaudio --extra-index-url https://download.pytorch.org/whl/cu116\n",
    "# !pip install sentencepiece\n",
    "# !pip install sacremoses\n",
    "# !pip install lxml"
   ]
  },
  {
   "cell_type": "code",
   "execution_count": 7,
   "id": "93e4b422-bdca-40d6-a8c6-29b581621837",
   "metadata": {},
   "outputs": [],
   "source": [
    "from bs4 import BeautifulSoup, Tag, NavigableString\n",
    "import re\n",
    "import os\n",
    "from transformers import pipeline"
   ]
  },
  {
   "cell_type": "code",
   "execution_count": 8,
   "id": "759f87db-f4e7-4328-abfc-ca9ef0730580",
   "metadata": {},
   "outputs": [],
   "source": [
    "#Calling pipeline\n",
    "\n",
    "translator = pipeline(\"translation\", model=\"Helsinki-NLP/opus-mt-en-hi\")"
   ]
  },
  {
   "cell_type": "code",
   "execution_count": 9,
   "id": "085f59eb-f794-404b-89b7-644343629355",
   "metadata": {
    "tags": []
   },
   "outputs": [],
   "source": [
    "#Translation\n",
    "\n",
    "def translate(dir): \n",
    "    file1 = open(dir, \"r\", encoding=\"utf-8\")\n",
    "    lines = file1.read()\n",
    "    lines = BeautifulSoup(lines, \"lxml\")\n",
    "    lines = lines.prettify()\n",
    "    file1.close()\n",
    "\n",
    "    file2 = open(dir, \"w\", encoding=\"utf-8\")\n",
    "    file2.close()\n",
    "\n",
    "    result = re.search('<body(.*)>', lines)\n",
    "    data = lines.split(\"<body\" + result.group(1) + '>', 1)\n",
    "\n",
    "    file2 = open(dir, \"a\", encoding=\"utf-8\")\n",
    "\n",
    "    file2.write(data[0] + \"\\n\" + \"<body\" + result.group(1) + \">\" + \"\\n\")\n",
    "    lines = data[1].rsplit(\"</body>\", 1)\n",
    "\n",
    "    start = 0\n",
    "    end = 0\n",
    "    content = \"\"\n",
    "    tag = True\n",
    "    script = False\n",
    "\n",
    "    for i in range(0, len(lines[0])):\n",
    "        if lines[0][i] != \">\" and tag == True:\n",
    "            content = content + lines[0][i]\n",
    "        #test\n",
    "        elif lines[0][i] == \">\" and tag == True:\n",
    "            content = content + lines[0][i]\n",
    "            file2.write(content)\n",
    "            content = \"\"\n",
    "            if lines[0][i - 1] == \"t\" and lines[0][i - 2] == \"p\" and lines[0][i - 3] == \"i\" and lines[0][i - 4] == \"r\" and lines[0][i - 5] == \"c\" and lines[0][i - 6] == \"s\" and lines[0][i - 7] == \"/\":\n",
    "                script = False\n",
    "            if lines[0][i + 1] != \"<\":\n",
    "                if lines[0][i - 1] == \"t\" and lines[0][i - 2] == \"p\" and lines[0][i - 3] == \"i\" and lines[0][i - 4] == \"r\" and lines[0][i - 5] == \"c\" and lines[0][i - 6] == \"s\":\n",
    "                    tag = True\n",
    "                    script = True\n",
    "                else:\n",
    "                    tag = False\n",
    "                    \n",
    "        elif lines[0][i] == \">\" and tag == False:\n",
    "            content = content + lines[0][i]\n",
    "        elif lines[0][i] != \">\" and tag == False and lines[0][i] != \"<\" and script == False:\n",
    "            content = content + lines[0][i]\n",
    "        elif lines[0][i] == \"<\" and tag == True:\n",
    "            file2.write(content)\n",
    "            content = \"\"\n",
    "            content = content + lines[0][i]\n",
    "        elif lines[0][i] == \"<\" and tag == False and script == False:\n",
    "            tag = True\n",
    "            content = content.strip()\n",
    "            if content != \"\":\n",
    "                if \"&amp;\" in content:\n",
    "                    position = content.find(\"&amp;\")\n",
    "                    translatedA = translator(content[:position])\n",
    "                    translatedB = translator(content[position+4 :])\n",
    "                    translation = str(translatedA[0]['translation_text']) + \" &amp; \" + str(translatedB[0]['translation_text'])\n",
    "                    file2.write(translation)\n",
    "                else:\n",
    "                    if content != \"\":\n",
    "                        translated = translator(content)\n",
    "                        file2.write(str(translated[0]['translation_text']))\n",
    "            content = \"\"\n",
    "            content = content + lines[0][i]\n",
    "\n",
    "    file2.write(\"</body>\" + \"\\n\" + lines[1])\n",
    "    file1.close()\n",
    "    file2.close()\n",
    "    \n",
    "    file1 = open(dir, \"r\", encoding=\"utf-8\")\n",
    "    lines = file1.read()\n",
    "    lines = BeautifulSoup(lines, \"lxml\")\n",
    "    lines = lines.prettify()\n",
    "    file1.close()\n",
    "\n",
    "    file1 = open(dir, \"w\", encoding=\"utf-8\")\n",
    "    file1.write(lines)\n",
    "    file1.close()"
   ]
  },
  {
   "cell_type": "code",
   "execution_count": 11,
   "id": "4fa89936-118a-4fa8-8883-b3df25c2a1d7",
   "metadata": {},
   "outputs": [
    {
     "name": "stdout",
     "output_type": "stream",
     "text": [
      "*****TRANSLATION STARTED*****\n",
      "Outsite script\n",
      "Outsite script\n",
      "*****TRANSLATION COMPLETED*****\n",
      "*****TRANSLATION COMPLETED*****\n"
     ]
    }
   ],
   "source": [
    "# Iterating through files\n",
    "\n",
    "rootdir = \"websites\"\n",
    "path = []\n",
    "for subdir, dirs, files in os.walk(rootdir):\n",
    "    for file in files:\n",
    "        filepath = subdir + os.sep + file\n",
    "\n",
    "        if filepath.endswith(\".html\"):\n",
    "            path.append(filepath)\n",
    "count = 0\n",
    "print(len(path))\n",
    "print(\"*****TRANSLATION STARTED*****\")\n",
    "for dir in path:\n",
    "    print(dir)\n",
    "    count = count+1\n",
    "    print(count)\n",
    "    translate(dir)\n",
    "\n",
    "print(\"*****TRANSLATION COMPLETED*****\")\n",
    "    \n"
   ]
  }
 ],
 "metadata": {
  "kernelspec": {
   "display_name": "Python 3 (ipykernel)",
   "language": "python",
   "name": "python3"
  },
  "language_info": {
   "codemirror_mode": {
    "name": "ipython",
    "version": 3
   },
   "file_extension": ".py",
   "mimetype": "text/x-python",
   "name": "python",
   "nbconvert_exporter": "python",
   "pygments_lexer": "ipython3",
   "version": "3.7.9"
  }
 },
 "nbformat": 4,
 "nbformat_minor": 5
}
